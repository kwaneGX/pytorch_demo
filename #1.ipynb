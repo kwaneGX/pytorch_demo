{
 "cells": [
  {
   "cell_type": "code",
   "execution_count": 1,
   "metadata": {
    "collapsed": false
   },
   "outputs": [
    {
     "name": "stdout",
     "output_type": "stream",
     "text": [
      "\n",
      " 0.0000e+00  0.0000e+00 -6.1804e+16\n",
      " 4.5736e-41 -1.5903e+10  4.5736e-41\n",
      " 2.7288e-38  0.0000e+00  6.7262e-44\n",
      "[torch.FloatTensor of size 3x3]\n",
      "\n"
     ]
    }
   ],
   "source": [
    "import torch\n",
    "\n",
    "a = torch.Tensor(3,3)\n",
    "print a"
   ]
  },
  {
   "cell_type": "code",
   "execution_count": 2,
   "metadata": {
    "collapsed": false
   },
   "outputs": [
    {
     "name": "stdout",
     "output_type": "stream",
     "text": [
      "torch.Size([3, 3])\n"
     ]
    }
   ],
   "source": [
    "print a.size()"
   ]
  },
  {
   "cell_type": "code",
   "execution_count": 4,
   "metadata": {
    "collapsed": false
   },
   "outputs": [
    {
     "name": "stdout",
     "output_type": "stream",
     "text": [
      "[[  0.00000000e+00   0.00000000e+00  -6.18040296e+16]\n",
      " [  4.57355793e-41  -1.59034573e+10   4.57355793e-41]\n",
      " [  2.72875859e-38   0.00000000e+00   6.72623263e-44]]\n",
      "\n",
      " 0.0000e+00  0.0000e+00 -6.1804e+16\n",
      " 4.5736e-41 -1.5903e+10  4.5736e-41\n",
      " 2.7288e-38  0.0000e+00  6.7262e-44\n",
      "[torch.FloatTensor of size 3x3]\n",
      "\n"
     ]
    }
   ],
   "source": [
    "b = a.numpy()\n",
    "print b\n",
    "print torch.from_numpy(b)"
   ]
  },
  {
   "cell_type": "code",
   "execution_count": 5,
   "metadata": {
    "collapsed": false
   },
   "outputs": [
    {
     "name": "stdout",
     "output_type": "stream",
     "text": [
      "None\n",
      "dz/dx:\n",
      " 2\n",
      "[torch.FloatTensor of size 1]\n",
      "\n",
      "dz/dy:\n",
      " 1\n",
      "[torch.FloatTensor of size 1]\n",
      "\n"
     ]
    }
   ],
   "source": [
    "# -*- coding: utf-8 -*-\n",
    "import numpy as np\n",
    "import torch\n",
    "from torch.autograd import Variable\n",
    "import torch.nn as nn\n",
    "import torch.nn.functional as F\n",
    "\n",
    "# requires_grad 表示是否对其求梯度，默认是True\n",
    "x = Variable(torch.Tensor([3]), requires_grad=True)\n",
    "y = Variable(torch.Tensor([5]), requires_grad=True)\n",
    "z = 2*x + y + 4\n",
    "\n",
    "# 对x和y分别求导\n",
    "print z.backward()\n",
    "\n",
    "# x的导数和y的导数\n",
    "print('dz/dx:{}'.format(x.grad.data))\n",
    "print('dz/dy:{}'.format(y.grad.data))"
   ]
  },
  {
   "cell_type": "code",
   "execution_count": 6,
   "metadata": {
    "collapsed": true
   },
   "outputs": [],
   "source": [
    "# -*- coding: utf-8 -*-\n",
    "import numpy as np\n",
    "import torch\n",
    "from torch.autograd import Variable\n",
    "import torch.nn as nn\n",
    "import torch.nn.functional as F\n",
    "\n",
    "# 基本的网络构建类模版\n",
    "class net_name(nn.Module):\n",
    "    def __init__(self):\n",
    "        super(net_name,self).__init__()\n",
    "        # 可以添加子网络\n",
    "        self.conv1 = nn.Conv2d(3,10,3)\n",
    "        # 具体每种层的参数可以查看文档\n",
    "\n",
    "    def forward(self, x):\n",
    "        # 定向前传播\n",
    "        out = self.conv1(x)\n",
    "        return out"
   ]
  },
  {
   "cell_type": "code",
   "execution_count": null,
   "metadata": {
    "collapsed": true
   },
   "outputs": [],
   "source": []
  }
 ],
 "metadata": {
  "kernelspec": {
   "display_name": "Python 2",
   "language": "python",
   "name": "python2"
  },
  "language_info": {
   "codemirror_mode": {
    "name": "ipython",
    "version": 2
   },
   "file_extension": ".py",
   "mimetype": "text/x-python",
   "name": "python",
   "nbconvert_exporter": "python",
   "pygments_lexer": "ipython2",
   "version": "2.7.13"
  }
 },
 "nbformat": 4,
 "nbformat_minor": 2
}
